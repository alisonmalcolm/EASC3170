{
 "cells": [
  {
   "cell_type": "markdown",
   "metadata": {},
   "source": [
    "# Earthquake Location Exercise\n",
    "\n",
    "This notebook uses data from the January 28, 2020 M7.7 earthquake in the Caribbean Sea.  More information about the earthquake is available here: https://earthquake.usgs.gov/earthquakes/eventpage/us60007idc/executive\n",
    "\n",
    "Our goal in this exercise is to locate the event.  I have organized the data for you, so you can plot it and then pick the P- and S-wave traveltimes.  Remember that you have to run each cell and to do that you press shift + enter."
   ]
  },
  {
   "cell_type": "code",
   "execution_count": 6,
   "metadata": {},
   "outputs": [],
   "source": [
    "#Run this cell to import all of the necessary functions into your workspace\n",
    "from QuakeHelpers import *\n",
    "%matplotlib inline"
   ]
  },
  {
   "cell_type": "markdown",
   "metadata": {},
   "source": [
    "## Data Plotting\n",
    "\n",
    "The next three cells plot data for three stations.  You can plot data for 8 different stations by changing the number in the function call below between 0 and 7.  I have set it up for three particular stations that result in a fairly accurate location for the earthquake, but it is quite reasonable to play with this and see how it changes the final result.  Move the slider to find the S-wave traveltime, the green line shows the time that you have it set to currently.  It sometimes takes a moment for the plot to catch up with the slider so be patient. The P-wave time is set to always be 60 seconds, but you can move that bar around as well; make sure that you understand why that is picked as the P-wave arrival.\n",
    "\n",
    "### Task: Pick the S-wave times for each of the three stations below and write them down or leave the sliders set to the time you choose.\n"
   ]
  },
  {
   "cell_type": "code",
   "execution_count": 8,
   "metadata": {},
   "outputs": [
    {
     "data": {
      "application/vnd.jupyter.widget-view+json": {
       "model_id": "820d3d8374774cdc9666ed2378afa353",
       "version_major": 2,
       "version_minor": 0
      },
      "text/plain": [
       "interactive(children=(IntSlider(value=60, description='Tp', layout=Layout(height='80px', width='65%'), max=660…"
      ]
     },
     "metadata": {},
     "output_type": "display_data"
    }
   ],
   "source": [
    "PlotPicks(1)"
   ]
  },
  {
   "cell_type": "code",
   "execution_count": 3,
   "metadata": {},
   "outputs": [
    {
     "data": {
      "application/vnd.jupyter.widget-view+json": {
       "model_id": "e4b88d7ad017485398f329e1f4f44c33",
       "version_major": 2,
       "version_minor": 0
      },
      "text/plain": [
       "interactive(children=(IntSlider(value=60, description='Tp', layout=Layout(height='80px', width='65%'), max=660…"
      ]
     },
     "metadata": {},
     "output_type": "display_data"
    }
   ],
   "source": [
    "PlotPicks(2)"
   ]
  },
  {
   "cell_type": "code",
   "execution_count": 4,
   "metadata": {},
   "outputs": [
    {
     "data": {
      "application/vnd.jupyter.widget-view+json": {
       "model_id": "40210539ea0945b8bea3df94793e5267",
       "version_major": 2,
       "version_minor": 0
      },
      "text/plain": [
       "interactive(children=(IntSlider(value=60, description='Tp', layout=Layout(height='80px', width='65%'), max=660…"
      ]
     },
     "metadata": {},
     "output_type": "display_data"
    }
   ],
   "source": [
    "PlotPicks(7)"
   ]
  },
  {
   "cell_type": "markdown",
   "metadata": {},
   "source": [
    "## Compute the distances\n",
    "\n",
    "Now that we have the traveltimes, we need to compute the distance from each station to the event.  Remember the formula from class that:\n",
    "\n",
    "$$\n",
    "d \\approx 8(T_S-T_P)\n",
    "$$\n",
    "\n",
    "### Task: Use the next cell to implement this equation for your three Ts picks."
   ]
  },
  {
   "cell_type": "code",
   "execution_count": 9,
   "metadata": {},
   "outputs": [
    {
     "data": {
      "text/plain": [
       "1200"
      ]
     },
     "execution_count": 9,
     "metadata": {},
     "output_type": "execute_result"
    }
   ],
   "source": [
    "150*8"
   ]
  },
  {
   "cell_type": "markdown",
   "metadata": {},
   "source": [
    "## Finding the hypocentre location\n",
    "\n",
    "As discussed in class, the event will be on a circle centred on the station, with radius from your calculated distances.  Note that for the next cell, the three numbers should match the three numbers for the stations you used to find the traveltimes above.\n",
    "\n",
    "### Task 1: Set the sliders to those calculated distances and see where you think the event is.\n",
    "\n",
    "### Task 2: Plot the earthquake's location as determined by the USGS and think about how different it is and why.  Adjust the sliders so that your circles match at the correct location and then go back and adjust your traveltime picks accordingly.  Think about:\n",
    "\n",
    "What does this tell you about errors in the process?  \n",
    "\n",
    "Where do you think those errors are most important?\n",
    "\n",
    "What could you do to improve the results?\n",
    "\n",
    "### Bonus Task: Go back and change the numbers in the cells above and use different stations.  Think about:\n",
    "\n",
    "What station locations give accurate results?  Why do you think this might be?  (You can think about this mathematically or physically.)\n",
    "\n",
    "What if you use only two stations?  What happens to the results?\n",
    "\n"
   ]
  },
  {
   "cell_type": "code",
   "execution_count": 5,
   "metadata": {},
   "outputs": [
    {
     "data": {
      "application/vnd.jupyter.widget-view+json": {
       "model_id": "3af2b7a7c4064476b0b4a96f960ac3b6",
       "version_major": 2,
       "version_minor": 0
      },
      "text/plain": [
       "interactive(children=(IntSlider(value=200, description='TGUH', layout=Layout(height='80px', width='50%'), max=…"
      ]
     },
     "metadata": {},
     "output_type": "display_data"
    }
   ],
   "source": [
    "PlotCircles([1,2,7])"
   ]
  },
  {
   "cell_type": "code",
   "execution_count": null,
   "metadata": {
    "collapsed": true
   },
   "outputs": [],
   "source": []
  }
 ],
 "metadata": {
  "anaconda-cloud": {},
  "kernelspec": {
   "display_name": "Python 3",
   "language": "python",
   "name": "python3"
  },
  "language_info": {
   "codemirror_mode": {
    "name": "ipython",
    "version": 3
   },
   "file_extension": ".py",
   "mimetype": "text/x-python",
   "name": "python",
   "nbconvert_exporter": "python",
   "pygments_lexer": "ipython3",
   "version": "3.6.10"
  },
  "latex_envs": {
   "bibliofile": "biblio.bib",
   "cite_by": "apalike",
   "current_citInitial": 1,
   "eqLabelWithNumbers": true,
   "eqNumInitial": 0
  }
 },
 "nbformat": 4,
 "nbformat_minor": 1
}
