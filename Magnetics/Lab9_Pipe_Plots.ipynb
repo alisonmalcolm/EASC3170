{
 "cells": [
  {
   "cell_type": "markdown",
   "metadata": {
    "extensions": {
     "jupyter_dashboards": {
      "version": 1,
      "views": {
       "grid_default": {
        "col": 0,
        "height": 10,
        "hidden": false,
        "row": 0,
        "width": 12
       },
       "report_default": {
        "hidden": false
       }
      }
     }
    }
   },
   "source": [
    "This is the <a href=\"https://jupyter.org/\">Jupyter Notebook</a>, an interactive coding and computation environment. For this lab, you do not have to write any code, you will only be running it. \n",
    "\n",
    "To use the notebook:\n",
    "- \"Shift + Enter\" runs the code within the cell (so does the forward arrow button near the top of the document)\n",
    "- You can alter variables and re-run cells\n",
    "- If you want to start with a clean slate, restart the Kernel either by going to the top, clicking on Kernel: Restart, or by \"esc + 00\" (if you do this, you will need to re-run the following block of code before running any other cells in the notebook) \n",
    "\n",
    "This notebook uses code adapted from \n",
    "\n",
    "SimPEG\n",
    "- Cockett, R., S. Kang, L.J. Heagy, A. Pidlisecky, D.W. Oldenburg (2015, in review), SimPEG: An open source framework for simulation and gradient based parameter estimation in geophysical applications. Computers and Geosciences\n"
   ]
  },
  {
   "cell_type": "markdown",
   "metadata": {
    "collapsed": true,
    "extensions": {
     "jupyter_dashboards": {
      "version": 1,
      "views": {
       "grid_default": {
        "col": 0,
        "height": 11,
        "hidden": false,
        "row": 10,
        "width": 6
       },
       "report_default": {}
      }
     }
    }
   },
   "source": [
    "## View the model\n",
    "\n",
    "- Pipe z: depth to the top of the prism (m)\n",
    "- Pipe dec: declination of the prism (reference is a unit northing vector; degrees)\n",
    "- npts grid: number of points in each direction\n",
    "- xy max: limits of the plot in x and y (m)\n",
    "- survey height: height of the magnetometer (m)\n",
    "- View_elev: elevation of view (degrees)\n",
    "- View_azim: azimuth of view (degrees)\n",
    "\n",
    "### Note that the view angles may be deceptive.  I recommend you set it to View_elev=90 to look down from above and/or look at xz and yz cross-sections via View_elev=0, view_azim=0, 90\n",
    "\n",
    "The pipe or prism is shown in black and the survey line is in red.  The available survey points are the green dots."
   ]
  },
  {
   "cell_type": "code",
   "execution_count": 1,
   "metadata": {
    "extensions": {
     "jupyter_dashboards": {
      "version": 1,
      "views": {
       "grid_default": {
        "col": 0,
        "height": 29,
        "hidden": false,
        "row": 21,
        "width": 6
       },
       "report_default": {
        "hidden": false
       }
      }
     }
    }
   },
   "outputs": [
    {
     "data": {
      "application/vnd.jupyter.widget-view+json": {
       "model_id": "76b14b48fcde4c168103dd26ab853941",
       "version_major": 2,
       "version_minor": 0
      },
      "text/plain": [
       "interactive(children=(FloatSlider(value=5.0, continuous_update=False, description='Pipe z', max=10.0), FloatSl…"
      ]
     },
     "metadata": {},
     "output_type": "display_data"
    }
   ],
   "source": [
    "from importMag import *\n",
    "%matplotlib inline\n",
    "\n",
    "# Set the depth of burial (m)\n",
    "depth = 5.0\n",
    "\n",
    "# Define the problem interactively\n",
    "Box= Mag.ViewPipeByPrism(depth, 0.0, xylim=10)\n",
    "Box"
   ]
  },
  {
   "cell_type": "markdown",
   "metadata": {},
   "source": [
    "## Explore various configurations for the pipe and incident magnetic field\n",
    "\n",
    "- Binc: inclination (degrees) of the incident field\n",
    "- Bdec: declination of the incident field \n",
    "- depth: depth to the top of the rebar (m)\n",
    "- susc: magnetic susceptibility\n",
    "- survey height: height of the survey\n",
    "- Pipe z: depth of the pipe\n",
    "- Pipe x: location of the pipe\n",
    "\n",
    "Positive Northing is to the North so if you set the inclination of the field positive (i.e. in the Northern Hemisphere) you should see the negative lobe on the right on a NS survey.  Note that Declination is -ve to the West so for St John's we have negative declination. \n",
    "\n",
    "\n",
    "### note that\n",
    "### (1) all other values for the survey and pipe are fixed to what they are in the picture above, and \n",
    "### (2) the picture above will NOT refresh if you change things down here, and vice versa, so if you change parameters above you must re-evaluate the cell below. "
   ]
  },
  {
   "cell_type": "code",
   "execution_count": 2,
   "metadata": {
    "extensions": {
     "jupyter_dashboards": {
      "version": 1,
      "views": {
       "grid_default": {
        "col": 6,
        "height": 29,
        "hidden": false,
        "row": 21,
        "width": 6
       },
       "report_default": {
        "hidden": false
       }
      }
     }
    },
    "scrolled": true
   },
   "outputs": [
    {
     "data": {
      "application/vnd.jupyter.widget-view+json": {
       "model_id": "150db9aa071d4d7e958577d7d872c920",
       "version_major": 2,
       "version_minor": 0
      },
      "text/plain": [
       "interactive(children=(FloatSlider(value=65.0, continuous_update=False, description='Binc', max=90.0, min=-90.0…"
      ]
     },
     "metadata": {},
     "output_type": "display_data"
    }
   ],
   "source": [
    "Q = Mag.ViewPipeIncField(Box)\n",
    "display(Q)"
   ]
  },
  {
   "cell_type": "code",
   "execution_count": 3,
   "metadata": {},
   "outputs": [
    {
     "data": {
      "text/plain": [
       "-5.05"
      ]
     },
     "execution_count": 3,
     "metadata": {},
     "output_type": "execute_result"
    }
   ],
   "source": [
    "Box.result[1].prism.zc"
   ]
  },
  {
   "cell_type": "code",
   "execution_count": null,
   "metadata": {},
   "outputs": [],
   "source": []
  }
 ],
 "metadata": {
  "anaconda-cloud": {},
  "extensions": {
   "jupyter_dashboards": {
    "activeView": "grid_default",
    "version": 1,
    "views": {
     "grid_default": {
      "cellMargin": 10,
      "defaultCellHeight": 20,
      "maxColumns": 12,
      "name": "grid",
      "type": "grid"
     },
     "report_default": {
      "name": "report",
      "type": "report"
     }
    }
   }
  },
  "kernelspec": {
   "display_name": "Python 3",
   "language": "python",
   "name": "python3"
  },
  "language_info": {
   "codemirror_mode": {
    "name": "ipython",
    "version": 3
   },
   "file_extension": ".py",
   "mimetype": "text/x-python",
   "name": "python",
   "nbconvert_exporter": "python",
   "pygments_lexer": "ipython3",
   "version": "3.7.6"
  },
  "widgets": {
   "state": {
    "0819577f0eb64c51b7fc7d88bb5094a2": {
     "views": [
      {
       "cell_index": 4
      }
     ]
    },
    "b51c79d42cbd4b6faf5d036a5e77ed91": {
     "views": [
      {
       "cell_index": 2
      }
     ]
    }
   },
   "version": "1.2.0"
  }
 },
 "nbformat": 4,
 "nbformat_minor": 1
}
