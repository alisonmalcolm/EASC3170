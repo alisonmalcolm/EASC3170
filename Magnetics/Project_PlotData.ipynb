{
 "cells": [
  {
   "cell_type": "markdown",
   "metadata": {
    "collapsed": true,
    "extensions": {
     "jupyter_dashboards": {
      "version": 1,
      "views": {
       "grid_default": {
        "col": 0,
        "height": 11,
        "hidden": false,
        "row": 10,
        "width": 6
       },
       "report_default": {}
      }
     }
    }
   },
   "source": [
    "## Plot your data\n",
    "\n",
    "-Each row of the matrix defined below contains the data along the x-directon, at a fixed y-position\n",
    "\n",
    "-You should replace the x and y positions with whatever you used\n",
    "\n",
    "-You may need more data to better characterize your peak\n",
    "\n",
    "-Make sure that all of your plots have axes labels and units!"
   ]
  },
  {
   "cell_type": "code",
   "execution_count": 1,
   "metadata": {},
   "outputs": [],
   "source": [
    "import numpy as np\n",
    "%matplotlib inline"
   ]
  },
  {
   "cell_type": "code",
   "execution_count": 16,
   "metadata": {},
   "outputs": [],
   "source": [
    "Dat=np.array([[175,210,220,275,350,370,395,330,265],\n",
    "[225,300,395,430,500,520,500,300,210],\n",
    "[260,300,375,430,500,520,500,300,310],\n",
    "[272,380,550,730,900,950,743,460,290],\n",
    "[275,390,550,745,920,980,750,460,295],\n",
    "[245,332,447,600,710,800,680,465,290],\n",
    "[225,285,360,450,540,600,520,380,260],\n",
    "[200,229,288,331,370,390,365,300,220]])\n",
    "\n",
    "x=[0,1,2,3,4,5,6,7,8]\n",
    "y=[0,1,2,3,4,5,6,7]\n"
   ]
  },
  {
   "cell_type": "code",
   "execution_count": 32,
   "metadata": {},
   "outputs": [
    {
     "data": {
      "text/plain": [
       "Text(0.5, 1.0, 'Box magnetic survey data')"
      ]
     },
     "execution_count": 32,
     "metadata": {},
     "output_type": "execute_result"
    },
    {
     "data": {
      "image/png": "[encoded data removed]",
      "text/plain": [
       "<Figure size 432x288 with 2 Axes>"
      ]
     },
     "metadata": {
      "needs_background": "light"
     },
     "output_type": "display_data"
    }
   ],
   "source": [
    "plt.imshow(np.flipud(Dat),extent=[x[0],x[-1],y[0],y[-1]])\n",
    "cbar=plt.colorbar()\n",
    "cbar.ax.set_ylabel('Total Magnetic Intensity ($\\mu$T)')\n",
    "\n",
    "plt.plot(4,4,'ko',label='true magnet position') \n",
    "plt.legend()\n",
    "\n",
    "plt.xlabel('x-Position (cm)')\n",
    "plt.ylabel('y-Position (cm)')\n",
    "plt.title('Box magnetic survey data')"
   ]
  },
  {
   "cell_type": "code",
   "execution_count": null,
   "metadata": {},
   "outputs": [],
   "source": []
  }
 ],
 "metadata": {
  "anaconda-cloud": {},
  "extensions": {
   "jupyter_dashboards": {
    "activeView": "grid_default",
    "version": 1,
    "views": {
     "grid_default": {
      "cellMargin": 10,
      "defaultCellHeight": 20,
      "maxColumns": 12,
      "name": "grid",
      "type": "grid"
     },
     "report_default": {
      "name": "report",
      "type": "report"
     }
    }
   }
  },
  "kernelspec": {
   "display_name": "Python 3",
   "language": "python",
   "name": "python3"
  },
  "language_info": {
   "codemirror_mode": {
    "name": "ipython",
    "version": 3
   },
   "file_extension": ".py",
   "mimetype": "text/x-python",
   "name": "python",
   "nbconvert_exporter": "python",
   "pygments_lexer": "ipython3",
   "version": "3.7.6"
  },
  "widgets": {
   "state": {
    "739d5b9071f64a96a9d7e85f646d0097": {
     "views": [
      {
       "cell_index": 5
      }
     ]
    },
    "a3b5f6eee5334a5c8eaa3c1bf703de47": {
     "views": [
      {
       "cell_index": 3
      }
     ]
    }
   },
   "version": "1.2.0"
  }
 },
 "nbformat": 4,
 "nbformat_minor": 1
}
