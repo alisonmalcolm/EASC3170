{
 "cells": [
  {
   "cell_type": "code",
   "execution_count": 1,
   "metadata": {},
   "outputs": [],
   "source": [
    "from  SeisRefrac import *\n",
    "%matplotlib inline"
   ]
  },
  {
   "cell_type": "markdown",
   "metadata": {},
   "source": [
    "# Interpretation and data acquisition strategies of seismic refraction data"
   ]
  },
  {
   "cell_type": "markdown",
   "metadata": {},
   "source": [
    "In this notebook, we will use synthetic seismic data to examine the impact of survey parameters on the expected seismic data."
   ]
  },
  {
   "cell_type": "markdown",
   "metadata": {},
   "source": [
    "## 1 Source "
   ]
  },
  {
   "cell_type": "markdown",
   "metadata": {},
   "source": [
    "In an ideal case, the source wavelet would be an impulse (ie. an instantaneous spike). However, in reality, the source energy is spread in space and in time as we've talked a bit about in class. The source wavelet used for these examples is shown below. So instead of seeing an impulsive arrival at a particular time, you will see this wavelet delayed by the traveltime."
   ]
  },
  {
   "cell_type": "code",
   "execution_count": 2,
   "metadata": {
    "scrolled": false
   },
   "outputs": [
    {
     "data": {
      "image/png": "[encoded data removed]",
      "text/plain": [
       "<matplotlib.figure.Figure at 0x10a4a2be0>"
      ]
     },
     "metadata": {},
     "output_type": "display_data"
    },
    {
     "data": {
      "text/plain": [
       "<matplotlib.axes._subplots.AxesSubplot at 0x10d845080>"
      ]
     },
     "execution_count": 2,
     "metadata": {},
     "output_type": "execute_result"
    }
   ],
   "source": [
    "plotWavelet()"
   ]
  },
  {
   "cell_type": "markdown",
   "metadata": {},
   "source": [
    "## 2 Data\n",
    "\n",
    "Below, we show 3 plots:\n",
    "- **left**: expected arrival times for the direct, refracted waves and reflection from the first layer\n",
    "- **center**: clean data - the wavelet arriving at the expected arrival time. Each line represents what would be recorded by an ideal geophone.\n",
    "- **right**: noisy data - clean data + random noise. \n",
    "\n",
    "The model used is based on that in the previous part of the lab: \n",
    "- v1 = 1400 m/s\n",
    "- v2 = 2400 m/s\n",
    "- v3 = 4000 m/s\n",
    "- z1 = 4m (depth to layer 1)\n",
    "- z2 = 15m (depth to layer 2)"
   ]
  },
  {
   "cell_type": "code",
   "execution_count": 3,
   "metadata": {
    "scrolled": true
   },
   "outputs": [
    {
     "data": {
      "application/vnd.jupyter.widget-view+json": {
       "model_id": "a90610bcb3d044d2b17f01e21fb7a941"
      }
     },
     "metadata": {},
     "output_type": "display_data"
    }
   ],
   "source": [
    "v=[1400.,2400.,4000.]\n",
    "z=[4.,15.]\n",
    "makeinteract3diagrams(v,z)"
   ]
  },
  {
   "cell_type": "markdown",
   "metadata": {},
   "source": [
    "## 3a Setup for the seismic refraction survey"
   ]
  },
  {
   "cell_type": "markdown",
   "metadata": {},
   "source": [
    "Consider a shot gather for seismic refraction survey, which means we have one shot (source), and multiple receivers (12). Shot location is fixed at x=0. There are two survey parameters: \n",
    "\n",
    "- x0: offset between shot and the first geophone\n",
    "- dx: spacing between two consecutive geophones\n",
    "\n",
    "In the widget below you can alter x0 or dx to change your survey setup. Run the next cell then try to change x0 and dx in the cell below that. Note that the next two cells are designed to help you visualize the survey layout. The x0 and dx parameter adjustment sliders here are not linked to the widget at the end of this notebook."
   ]
  },
  {
   "cell_type": "code",
   "execution_count": 4,
   "metadata": {},
   "outputs": [
    {
     "data": {
      "application/vnd.jupyter.widget-view+json": {
       "model_id": "d4baa013a8a1438a88e87a21fc13da78"
      }
     },
     "metadata": {},
     "output_type": "display_data"
    }
   ],
   "source": [
    "makeinteractSeisRefracSruvey()"
   ]
  },
  {
   "cell_type": "markdown",
   "metadata": {},
   "source": [
    "## 3b Interpretation of seismic refraction data"
   ]
  },
  {
   "cell_type": "markdown",
   "metadata": {},
   "source": [
    "Assume that you have seismic refraction data. The structure of the earth is unknown and you may want to obtain useful information about the subsurface. We will assume that the subsurface in the survey area has a three-layer structure and that the velocities increase with depth. \n",
    "Thus, there can be four unknowns:\n",
    "\n",
    "- v1: velocity of the first layer (m/s)\n",
    "- v2: velocity of the second layer (m/s)\n",
    "- v3: velocity of the third layer (m/s)\n",
    "- z1: depth of the first layer (m)\n",
    "- z2: depth of the second layer (m)\n",
    "\n",
    "Based on the above information, we may expect to have up to four arrivals at a geophone, related to \n",
    "\n",
    "- Direct\n",
    "- Reflected: interface 1\n",
    "- Refraction: interface 1\n",
    "- Refraction: interface 2"
   ]
  },
  {
   "cell_type": "markdown",
   "metadata": {},
   "source": [
    "The widget below will allow you to estimate the layer depths and velocities. The parameters for the widget are:\n",
    "\n",
    "- x0: offset between shot and the first geophone\n",
    "- dx: spacing between two consecutive geophones\n",
    "- Fit: checking this activates fittting function (if you click this a red line will show up)\n",
    "- tI: intercept time for a line function (s)\n",
    "- v: inverse slope of the line function (m/s; which can be velocity of either direct and critically refracted wave)"
   ]
  },
  {
   "cell_type": "markdown",
   "metadata": {},
   "source": [
    "### Run the widget below and find useful subsurface information!"
   ]
  },
  {
   "cell_type": "code",
   "execution_count": 5,
   "metadata": {
    "scrolled": false
   },
   "outputs": [
    {
     "data": {
      "application/vnd.jupyter.widget-view+json": {
       "model_id": "360ce5760d52462aa26dc9381094bcb7"
      }
     },
     "metadata": {},
     "output_type": "display_data"
    }
   ],
   "source": [
    "makeinteractTXwigglediagram()"
   ]
  },
  {
   "cell_type": "code",
   "execution_count": 8,
   "metadata": {},
   "outputs": [
    {
     "name": "stdout",
     "output_type": "stream",
     "text": [
      "6.92820323028\n",
      "16.9412778902\n"
     ]
    }
   ],
   "source": []
  },
  {
   "cell_type": "code",
   "execution_count": null,
   "metadata": {
    "collapsed": true
   },
   "outputs": [],
   "source": []
  }
 ],
 "metadata": {
  "anaconda-cloud": {},
  "kernelspec": {
   "display_name": "Python [conda env:py35]",
   "language": "python",
   "name": "conda-env-py35-py"
  },
  "language_info": {
   "codemirror_mode": {
    "name": "ipython",
    "version": 3
   },
   "file_extension": ".py",
   "mimetype": "text/x-python",
   "name": "python",
   "nbconvert_exporter": "python",
   "pygments_lexer": "ipython3",
   "version": "3.5.3"
  },
  "latex_envs": {
   "bibliofile": "biblio.bib",
   "cite_by": "apalike",
   "current_citInitial": 1,
   "eqLabelWithNumbers": true,
   "eqNumInitial": 0
  },
  "widgets": {
   "state": {
    "0a2a9106fa8b459092dc5adae150598c": {
     "views": [
      {
       "cell_index": 7
      }
     ]
    },
    "3c14397c1104484c989c8f8352330fc4": {
     "views": [
      {
       "cell_index": 10
      }
     ]
    },
    "3db9b724c0fa42f0974985ebb85806ec": {
     "views": [
      {
       "cell_index": 15
      }
     ]
    }
   },
   "version": "1.2.0"
  }
 },
 "nbformat": 4,
 "nbformat_minor": 1
}
