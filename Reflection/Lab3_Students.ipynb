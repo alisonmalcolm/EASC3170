{
 "cells": [
  {
   "cell_type": "markdown",
   "metadata": {},
   "source": [
    "## $T^2$-$X^2$ and NMO Velocities"
   ]
  },
  {
   "cell_type": "markdown",
   "metadata": {},
   "source": [
    "This loads a bunch of programs we will use, as with the other python apps, use shift-enter to evaluate a cell"
   ]
  },
  {
   "cell_type": "code",
   "execution_count": null,
   "metadata": {
    "collapsed": true
   },
   "outputs": [],
   "source": [
    "run MyNMOImport"
   ]
  },
  {
   "cell_type": "code",
   "execution_count": null,
   "metadata": {
    "collapsed": true
   },
   "outputs": [],
   "source": [
    "%matplotlib inline"
   ]
  },
  {
   "cell_type": "markdown",
   "metadata": {},
   "source": [
    "First, plot the traveltime data, make sure this looks reasonable (i.e. that you see hyperbolae)\n",
    "\n",
    "ttime1 is the traveltime data for the first reflection \n",
    "ttime2 is the traveltime data for the second reflection\n",
    "offset is the source/receiver offset \n",
    "(you will use these paramters further down)"
   ]
  },
  {
   "cell_type": "code",
   "execution_count": null,
   "metadata": {},
   "outputs": [],
   "source": [
    "PlotTraveltimes(offset,ttime1,ttime2)"
   ]
  },
  {
   "cell_type": "markdown",
   "metadata": {},
   "source": [
    "Now we do the NMO correction for a variety of velocities.  Print out the plot for at least 3 velocities for the top layer, one too fast, one too slow and one about right.  Use this to determine the approximate velocities for each layer.  Blue are the data, and red are the NMO corrected data."
   ]
  },
  {
   "cell_type": "code",
   "execution_count": null,
   "metadata": {},
   "outputs": [],
   "source": [
    "InteractNMO()"
   ]
  },
  {
   "cell_type": "markdown",
   "metadata": {},
   "source": [
    "Now make the t^2-x^2 plot, to do this, it's easiest to first convert x to km.  Which axis should be which?  Fill in the spaces in the code below."
   ]
  },
  {
   "cell_type": "code",
   "execution_count": null,
   "metadata": {},
   "outputs": [],
   "source": [
    "offsetkm=offset/1000.0 #convert to km\n",
    "plt.plot(FillinXHere,FillinYHere)  #for the first reflection\n",
    "plt.plot(FillinXHere,FillinYHere)  #for the second reflection\n",
    "\n",
    "plt.xlabel('x$^2$ (UNITS)')\n",
    "plt.ylabel('t$^2$ (UNITS)')\n",
    "plt.title('t$^2$-x$^2$ Plot')\n",
    "plt.show()"
   ]
  },
  {
   "cell_type": "markdown",
   "metadata": {},
   "source": [
    "Find and print out the linear equation for both reflections, np.ployfit fits a polynomial to data, we want a first-order polynomial (a line), so we use p=np.polyfit(x,y,1).  Use your choice for x and y as above.  The code below simply writes out the equation for you in a nice way"
   ]
  },
  {
   "cell_type": "code",
   "execution_count": null,
   "metadata": {},
   "outputs": [],
   "source": [
    "p1=np.polyfit(FillinXHere,FillinYHere,1)\n",
    "p2=np.polyfit(FillinXHere,FillinYHere,1)\n",
    "\n",
    "equation1='y='+str('%1.2f'%p1[0])+'x + '+str('%1.2f'%p1[1])\n",
    "equation2='y='+str('%1.2f'%p2[0])+'x + '+str('%1.2f'%p2[1])\n",
    "print(equation1)\n",
    "print(equation2)"
   ]
  },
  {
   "cell_type": "markdown",
   "metadata": {},
   "source": [
    "Now calculate the RMS velocities; to take the square-root of a number use math.sqrt(number).  Be careful to write 1.0 and 0.0 if you need to use the numbers 1 and 0 (or any other number)."
   ]
  },
  {
   "cell_type": "code",
   "execution_count": null,
   "metadata": {
    "collapsed": true
   },
   "outputs": [],
   "source": [
    "VRMS1=??\n",
    "VRMS2=??\n",
    "print('VRMS1='+str('%1.2f'%VRMS1)+' km/s and VRMS2='+str('%1.2f' % VRMS2)+' km/s')"
   ]
  },
  {
   "cell_type": "markdown",
   "metadata": {},
   "source": [
    "Now use the Dix equation to compute the interval velocities.  To get the square of a number write $x**2$, in other words, $x**2=x*x$ or $2**3=2x2x2=8$"
   ]
  },
  {
   "cell_type": "code",
   "execution_count": null,
   "metadata": {
    "collapsed": true
   },
   "outputs": [],
   "source": [
    "t01=WHAT IS THIS?\n",
    "t02=WHAT IS THIS?\n",
    "v1=VRMS1\n",
    "v2=??  #CAREFUL WITH YOUR BRACKETS!  \n",
    "print('v1='+str('%1.2f'%v1)+' km/s')\n",
    "print('v2='+str('%1.2f'%v2)+' km/s')"
   ]
  },
  {
   "cell_type": "markdown",
   "metadata": {},
   "source": [
    "Use your calculations above to compute the layer thicknesses"
   ]
  },
  {
   "cell_type": "code",
   "execution_count": null,
   "metadata": {
    "collapsed": true
   },
   "outputs": [],
   "source": [
    "h1=??\n",
    "h2=??\n",
    "\n",
    "print('h1='+str('%1.2f'%h1)+'fill in your units here')\n",
    "print('h2='+str('%1.2f'%h2)+'fill in your units here')"
   ]
  },
  {
   "cell_type": "code",
   "execution_count": null,
   "metadata": {
    "collapsed": true
   },
   "outputs": [],
   "source": []
  }
 ],
 "metadata": {
  "anaconda-cloud": {},
  "kernelspec": {
   "display_name": "Python [default]",
   "language": "python",
   "name": "python2"
  },
  "language_info": {
   "codemirror_mode": {
    "name": "ipython",
    "version": 2
   },
   "file_extension": ".py",
   "mimetype": "text/x-python",
   "name": "python",
   "nbconvert_exporter": "python",
   "pygments_lexer": "ipython2",
   "version": "2.7.13"
  },
  "widgets": {
   "state": {
    "e3b70179bee0476394b310e29c39ab87": {
     "views": [
      {
       "cell_index": 7
      }
     ]
    }
   },
   "version": "1.2.0"
  }
 },
 "nbformat": 4,
 "nbformat_minor": 1
}
