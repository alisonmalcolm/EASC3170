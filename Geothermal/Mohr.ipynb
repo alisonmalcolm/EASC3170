{
 "cells": [
  {
   "cell_type": "markdown",
   "id": "4be23b34",
   "metadata": {},
   "source": [
    "## Mohr Circle exercise.  \n",
    "\n",
    "Use this for questions 3 and 4 of the Geothermal assignment.\n",
    "\n",
    "Use the Mohr circle diagram given, along with the failure curve to determine what pore pressure you will need to use.  There is a second function that takes as input the crossing point of the Mohr circle and failure curve and outputs the ‘theta’ angle. "
   ]
  },
  {
   "cell_type": "code",
   "execution_count": 35,
   "id": "726b724c",
   "metadata": {},
   "outputs": [],
   "source": [
    "%run LoadGeo"
   ]
  },
  {
   "cell_type": "code",
   "execution_count": 36,
   "id": "22fc5da9",
   "metadata": {},
   "outputs": [
    {
     "data": {
      "application/vnd.jupyter.widget-view+json": {
       "model_id": "3d6bdcab9bc64caa9310d33244dc29a3",
       "version_major": 2,
       "version_minor": 0
      },
      "text/plain": [
       "interactive(children=(FloatSlider(value=0.0, description='p', max=20.0), FloatSlider(value=0.8, description='m…"
      ]
     },
     "metadata": {},
     "output_type": "display_data"
    }
   ],
   "source": [
    "Mohr_Failure()"
   ]
  },
  {
   "cell_type": "markdown",
   "id": "166e57f1",
   "metadata": {},
   "source": [
    "Here is an example of using the calculate angle code.  Replace each of the values after the = with the values that you read yourself off of the graph above.  The number that comes out is the $\\theta$ angle discussed in class."
   ]
  },
  {
   "cell_type": "code",
   "execution_count": 18,
   "id": "e106e8e4",
   "metadata": {
    "scrolled": true
   },
   "outputs": [
    {
     "name": "stdout",
     "output_type": "stream",
     "text": [
      "theta=61.85 degrees\n"
     ]
    }
   ],
   "source": [
    "th=calculate_angle(sigma_fail=8,tau_fail=7.5,sig1=6,sig2=22,p=1)\n",
    "print(\"theta=\"+str(round(th,2))+\" degrees\")"
   ]
  },
  {
   "cell_type": "code",
   "execution_count": 37,
   "id": "76016225",
   "metadata": {},
   "outputs": [
    {
     "name": "stdout",
     "output_type": "stream",
     "text": [
      "theta=57.56 degrees\n"
     ]
    }
   ],
   "source": [
    "th=calculate_angle(sigma_fail=12,tau_fail=6.4,sig1=8,sig2=22,p=0)\n",
    "print(\"theta=\"+str(round(th,2))+\" degrees\")"
   ]
  },
  {
   "cell_type": "code",
   "execution_count": null,
   "id": "05aee847",
   "metadata": {},
   "outputs": [],
   "source": []
  }
 ],
 "metadata": {
  "kernelspec": {
   "display_name": "Python 3 (ipykernel)",
   "language": "python",
   "name": "python3"
  },
  "language_info": {
   "codemirror_mode": {
    "name": "ipython",
    "version": 3
   },
   "file_extension": ".py",
   "mimetype": "text/x-python",
   "name": "python",
   "nbconvert_exporter": "python",
   "pygments_lexer": "ipython3",
   "version": "3.7.12"
  }
 },
 "nbformat": 4,
 "nbformat_minor": 5
}
