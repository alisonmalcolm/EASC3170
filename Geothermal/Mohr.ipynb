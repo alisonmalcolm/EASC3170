{
 "cells": [
  {
   "cell_type": "code",
   "execution_count": 9,
   "id": "726b724c",
   "metadata": {},
   "outputs": [],
   "source": [
    "%run LoadGeo"
   ]
  },
  {
   "cell_type": "code",
   "execution_count": 10,
   "id": "22fc5da9",
   "metadata": {},
   "outputs": [
    {
     "data": {
      "application/vnd.jupyter.widget-view+json": {
       "model_id": "7df71b5b29ca4d0a8d2ee641d0222ab3",
       "version_major": 2,
       "version_minor": 0
      },
      "text/plain": [
       "interactive(children=(FloatSlider(value=0.0, description='p', max=20.0), FloatSlider(value=0.8, description='m…"
      ]
     },
     "metadata": {},
     "output_type": "display_data"
    }
   ],
   "source": [
    "Mohr_Failure()"
   ]
  },
  {
   "cell_type": "code",
   "execution_count": null,
   "id": "e84e1baa",
   "metadata": {},
   "outputs": [],
   "source": []
  }
 ],
 "metadata": {
  "kernelspec": {
   "display_name": "Python 3 (ipykernel)",
   "language": "python",
   "name": "python3"
  },
  "language_info": {
   "codemirror_mode": {
    "name": "ipython",
    "version": 3
   },
   "file_extension": ".py",
   "mimetype": "text/x-python",
   "name": "python",
   "nbconvert_exporter": "python",
   "pygments_lexer": "ipython3",
   "version": "3.7.12"
  }
 },
 "nbformat": 4,
 "nbformat_minor": 5
}
